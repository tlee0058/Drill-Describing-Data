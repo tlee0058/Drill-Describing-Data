{
 "cells": [
  {
   "cell_type": "markdown",
   "metadata": {},
   "source": [
    "1.Greg was 14, Marcia was 12, Peter was 11, Jan was 10, Bobby was 8, and Cindy was 6 when they started playing the Brady kids on The Brady Bunch. Cousin Oliver was 8 years old when he joined the show. What are the mean, median, and mode of the kids' ages when they first appeared on the show? What are the variance, standard deviation, and standard error?"
   ]
  },
  {
   "cell_type": "code",
   "execution_count": 57,
   "metadata": {},
   "outputs": [
    {
     "name": "stdout",
     "output_type": "stream",
     "text": [
      "9.85714285714\n"
     ]
    }
   ],
   "source": [
    "1. #manually calculating mean\n",
    "averageNum = float(14+12+11+10+8+8+6)/7\n",
    "print (averageNum)\n"
   ]
  },
  {
   "cell_type": "code",
   "execution_count": 89,
   "metadata": {},
   "outputs": [
    {
     "name": "stdout",
     "output_type": "stream",
     "text": [
      "             num\n",
      "count   7.000000\n",
      "mean    9.857143\n",
      "std     2.734262\n",
      "min     6.000000\n",
      "25%     8.000000\n",
      "50%    10.000000\n",
      "75%    11.500000\n",
      "max    14.000000\n",
      "mode:0    8\n",
      "dtype: int64\n",
      "variance:7.47619047619\n",
      "STD Error: 1.03345401972\n"
     ]
    }
   ],
   "source": [
    "#using Python codes\n",
    "import pandas as pd\n",
    "import numpy as np\n",
    "pyList1 = pd.DataFrame({'num':[14,12,11,10,8,6,8]})\n",
    "book = pyList1.describe()\n",
    "print book\n",
    "print 'mode:{}'.format(pyList1['num'].mode())\n",
    "print 'variance:{}'.format(pyList1['num'].var()) #why is variance wrong?\n",
    "print 'STD Error: {}'.format(np.std(pyList1['num'] ,ddof=1) / np.sqrt(len(pyList1['num'])))"
   ]
  },
  {
   "cell_type": "code",
   "execution_count": 16,
   "metadata": {},
   "outputs": [
    {
     "name": "stdout",
     "output_type": "stream",
     "text": [
      "10\n"
     ]
    }
   ],
   "source": [
    "1. #manually calculating median\n",
    "age_list = [6, 8, 8, 10, 11, 12, 14]\n",
    "#sample_size = 7/2 = 3.5\n",
    "median = 10\n"
   ]
  },
  {
   "cell_type": "code",
   "execution_count": null,
   "metadata": {},
   "outputs": [],
   "source": [
    "1. #manually calculating mode\n",
    "mode = 8"
   ]
  },
  {
   "cell_type": "code",
   "execution_count": 90,
   "metadata": {},
   "outputs": [
    {
     "name": "stdout",
     "output_type": "stream",
     "text": [
      "6.40817142857\n"
     ]
    }
   ],
   "source": [
    "1. #manually calculating variance\n",
    "v = float(((-9.86+6)**2+(-9.86+8)**2+(-9.86+8)**2+(10-9.86)**2+(11-9.86)**2+(12-9.86)**2+(14-9.86)**2))/float(7)\n",
    "\n",
    "print (v)"
   ]
  },
  {
   "cell_type": "code",
   "execution_count": 91,
   "metadata": {},
   "outputs": [
    {
     "name": "stdout",
     "output_type": "stream",
     "text": [
      "2.53143663333\n"
     ]
    }
   ],
   "source": [
    "#manually calculating std\n",
    "s = v**0.5\n",
    "print (s)"
   ]
  },
  {
   "cell_type": "code",
   "execution_count": 93,
   "metadata": {},
   "outputs": [
    {
     "name": "stdout",
     "output_type": "stream",
     "text": [
      "1.03345467798\n"
     ]
    }
   ],
   "source": [
    "#manually calculating std error\n",
    "se = s/(6**0.5)\n",
    "print (se)"
   ]
  },
  {
   "cell_type": "markdown",
   "metadata": {},
   "source": [
    "#2 Using these estimates, if you had to choose only one estimate of central tendency and one estimate of variance to describe the data, which would you pick and why?"
   ]
  },
  {
   "cell_type": "markdown",
   "metadata": {},
   "source": [
    "For central tendency I would choose 'unbiased' estimate because it's more accurate representation of the entire population. For variance, I would choose sample size minus one to take variance into account, creating a more precise outcome."
   ]
  },
  {
   "cell_type": "raw",
   "metadata": {},
   "source": [
    "#3 Next, Cindy has a birthday. Update your estimates- what changed, and what didn't?\n",
    "Average, variance, standard deviation and std error will change. Below are the calculations"
   ]
  },
  {
   "cell_type": "code",
   "execution_count": 38,
   "metadata": {},
   "outputs": [
    {
     "name": "stdout",
     "output_type": "stream",
     "text": [
      "10\n"
     ]
    }
   ],
   "source": [
    "#adjusted mean\n",
    "averageNum2 = (14+12+11+10+8+8+7)/7\n",
    "print (averageNum2)"
   ]
  },
  {
   "cell_type": "code",
   "execution_count": 35,
   "metadata": {},
   "outputs": [
    {
     "name": "stdout",
     "output_type": "stream",
     "text": [
      "6\n"
     ]
    }
   ],
   "source": [
    "#adjusted variance\n",
    "v2 = ((-2)**2+(-1)**2+(-1)**2+(1)**2+(2)**2+(3)**2+(5)**2)/7\n",
    "\n",
    "print (v2)"
   ]
  },
  {
   "cell_type": "code",
   "execution_count": 36,
   "metadata": {},
   "outputs": [
    {
     "name": "stdout",
     "output_type": "stream",
     "text": [
      "2.44948974278\n"
     ]
    }
   ],
   "source": [
    "#adjusted std\n",
    "s2 = adv**0.5\n",
    "print (s2)"
   ]
  },
  {
   "cell_type": "code",
   "execution_count": 37,
   "metadata": {},
   "outputs": [
    {
     "name": "stdout",
     "output_type": "stream",
     "text": [
      "0.925820099773\n"
     ]
    }
   ],
   "source": [
    "#adjusted std error\n",
    "se2 = ads/(7**0.5)\n",
    "print (se2)"
   ]
  },
  {
   "cell_type": "raw",
   "metadata": {},
   "source": [
    "#4Nobody likes Cousin Oliver. Maybe the network should have used an even younger actor. Replace Cousin Oliver with 1-year-old Jessica, then recalculate again. Does this change your choice of central tendency or variance estimation methods?\n",
    "Yes because the variance is greater. Below are the calculations"
   ]
  },
  {
   "cell_type": "code",
   "execution_count": 41,
   "metadata": {},
   "outputs": [
    {
     "name": "stdout",
     "output_type": "stream",
     "text": [
      "9\n"
     ]
    }
   ],
   "source": [
    "#adjusted mean\n",
    "averageNum3 = (14+12+11+10+8+1+7)/7\n",
    "print (averageNum3)"
   ]
  },
  {
   "cell_type": "code",
   "execution_count": 45,
   "metadata": {},
   "outputs": [
    {
     "name": "stdout",
     "output_type": "stream",
     "text": [
      "18\n"
     ]
    }
   ],
   "source": [
    "#adjusted variance\n",
    "v3 = ((-2)**2+(-1)**2+(-8)**2+(1)**2+(2)**2+(3)**2+(5)**2)/(7-1)\n",
    "\n",
    "print (v3)"
   ]
  },
  {
   "cell_type": "code",
   "execution_count": 46,
   "metadata": {},
   "outputs": [
    {
     "name": "stdout",
     "output_type": "stream",
     "text": [
      "4.24264068712\n"
     ]
    }
   ],
   "source": [
    "#adjusted std\n",
    "s3 = v3**0.5\n",
    "print (s3)"
   ]
  },
  {
   "cell_type": "code",
   "execution_count": 47,
   "metadata": {},
   "outputs": [
    {
     "name": "stdout",
     "output_type": "stream",
     "text": [
      "1.73205080757\n"
     ]
    }
   ],
   "source": [
    "#adjusted std error\n",
    "se3 = s3/(6**0.5)\n",
    "print (se3)"
   ]
  },
  {
   "cell_type": "raw",
   "metadata": {},
   "source": [
    "#5On the 50th anniversary of The Brady Bunch, four different magazines asked their readers whether they were fans of the show. The answers were: TV Guide 20% fans Entertainment Weekly 23% fans Pop Culture Today 17% fans SciPhi Phanatic 5% fans\n",
    "\n",
    "Based on these numbers, what percentage of adult Americans would you estimate were Brady Bunch fans on the 50th anniversary of the show?"
   ]
  },
  {
   "cell_type": "code",
   "execution_count": 53,
   "metadata": {},
   "outputs": [
    {
     "name": "stdout",
     "output_type": "stream",
     "text": [
      "27.5\n"
     ]
    }
   ],
   "source": [
    "averageFans = ((.2+.23+.17+.5)/4)*100\n",
    "print (averageFans)\n"
   ]
  },
  {
   "cell_type": "code",
   "execution_count": null,
   "metadata": {},
   "outputs": [],
   "source": []
  }
 ],
 "metadata": {
  "kernelspec": {
   "display_name": "Python 2",
   "language": "python",
   "name": "python2"
  },
  "language_info": {
   "codemirror_mode": {
    "name": "ipython",
    "version": 2
   },
   "file_extension": ".py",
   "mimetype": "text/x-python",
   "name": "python",
   "nbconvert_exporter": "python",
   "pygments_lexer": "ipython2",
   "version": "2.7.14"
  }
 },
 "nbformat": 4,
 "nbformat_minor": 2
}
