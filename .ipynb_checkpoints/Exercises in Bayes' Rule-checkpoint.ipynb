{
 "cells": [
  {
   "cell_type": "raw",
   "metadata": {},
   "source": [
    "Now it's time to use Bayes' rule to compute some conditional probabilities. First look over the numbers and estimate each of the four probabilities, using your intuition. Then, calculate the probabilities using Bayes' rule. Keep track of your work in a Google document or markdown file that you can share with your mentor.\n",
    "\n",
    "A diagnostic test has a 98% probability of giving a positive result when applied to a person suffering from Thripshaw's Disease, and 10% probability of giving a (false) positive when applied to a non-sufferer. It is estimated that 0.5 % of the population are sufferers. Suppose that the test is now administered to a person whose disease status is unknown. Calculate the probability that the test will:\n",
    "\n",
    "Be positive\n",
    "Correctly diagnose a sufferer of Thripshaw's\n",
    "Correctly identify a non-sufferer of Thripshaw's\n",
    "Misclassify the person\n",
    "Were your intuitions on the mark, or way off? If your statistical intuition is leading you astray, you aren't alone. According to Nobel-prize winning Daniel Kahneman, humans simply are not good intuitive statisticians. That fact has two strong implications for you as you prepare for a career in data science:\n",
    "\n",
    "Just because your statistical intuition is wrong does not mean you're a bad statistician. We're all in this boat. Don't give up on yourself. And,\n",
    "Just because you easily intuit the answer to a statistical question does not mean you're right. Don't trust your intuition. Check your work.\n",
    "Discuss your answer to each of these questions with your mentor. If you want more Bayes practice, try these exercises.\n",
    "\n",
    "After giving it a try yourself, you can find a solution here."
   ]
  },
  {
   "cell_type": "code",
   "execution_count": 1,
   "metadata": {},
   "outputs": [
    {
     "name": "stdout",
     "output_type": "stream",
     "text": [
      "0.1044\n"
     ]
    }
   ],
   "source": [
    "prob1 = (.98*.005) + (.1*.995)\n",
    "print (prob1)"
   ]
  },
  {
   "cell_type": "raw",
   "metadata": {},
   "source": [
    "2. 98%"
   ]
  },
  {
   "cell_type": "raw",
   "metadata": {},
   "source": [
    "3. 90%"
   ]
  },
  {
   "cell_type": "code",
   "execution_count": 2,
   "metadata": {},
   "outputs": [
    {
     "name": "stdout",
     "output_type": "stream",
     "text": [
      "0.0996\n"
     ]
    }
   ],
   "source": [
    "prob4 = (.02*0.005)+(.1*.995)\n",
    "print (prob4)"
   ]
  },
  {
   "cell_type": "code",
   "execution_count": null,
   "metadata": {},
   "outputs": [],
   "source": []
  }
 ],
 "metadata": {
  "kernelspec": {
   "display_name": "Python 2",
   "language": "python",
   "name": "python2"
  },
  "language_info": {
   "codemirror_mode": {
    "name": "ipython",
    "version": 2
   },
   "file_extension": ".py",
   "mimetype": "text/x-python",
   "name": "python",
   "nbconvert_exporter": "python",
   "pygments_lexer": "ipython2",
   "version": "2.7.14"
  }
 },
 "nbformat": 4,
 "nbformat_minor": 2
}
